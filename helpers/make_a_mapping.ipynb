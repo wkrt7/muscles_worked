{
 "cells": [
  {
   "cell_type": "code",
   "execution_count": 13,
   "metadata": {},
   "outputs": [],
   "source": [
    "from pathlib import Path\n",
    "import json"
   ]
  },
  {
   "cell_type": "code",
   "execution_count": 28,
   "metadata": {},
   "outputs": [],
   "source": [
    "path = Path().cwd().parent / \"public\" / \"exercices\"\n",
    "output = Path().cwd().parent / \"public\" \n"
   ]
  },
  {
   "cell_type": "code",
   "execution_count": 29,
   "metadata": {},
   "outputs": [],
   "source": [
    "# list all files in path\n",
    "p = path.glob(\"**/*\")\n",
    "files = [x for x in p if x.is_file()]"
   ]
  },
  {
   "cell_type": "code",
   "execution_count": 30,
   "metadata": {},
   "outputs": [
    {
     "data": {
      "text/plain": [
       "{'name': '3/4 Sit-Up',\n",
       " 'force': 'pull',\n",
       " 'level': 'beginner',\n",
       " 'mechanic': 'compound',\n",
       " 'equipment': 'body only',\n",
       " 'primaryMuscles': ['abdominals'],\n",
       " 'secondaryMuscles': [],\n",
       " 'instructions': ['Lie down on the floor and secure your feet. Your legs should be bent at the knees.',\n",
       "  'Place your hands behind or to the side of your head. You will begin with your back on the ground. This will be your starting position.',\n",
       "  'Flex your hips and spine to raise your torso toward your knees.',\n",
       "  'At the top of the contraction your torso should be perpendicular to the ground. Reverse the motion, going only Â¾ of the way down.',\n",
       "  'Repeat for the recommended amount of repetitions.'],\n",
       " 'category': 'strength',\n",
       " 'images': ['3_4_Sit-Up/0.jpg', '3_4_Sit-Up/1.jpg'],\n",
       " 'id': '3_4_Sit-Up'}"
      ]
     },
     "execution_count": 30,
     "metadata": {},
     "output_type": "execute_result"
    }
   ],
   "source": [
    "with open(files[0]) as f:\n",
    "    l = json.load(f)\n",
    "l"
   ]
  },
  {
   "cell_type": "code",
   "execution_count": 31,
   "metadata": {},
   "outputs": [],
   "source": [
    "mapping = {}\n",
    "for file in files:\n",
    "    with open(file) as f:\n",
    "        content = json.load(f)\n",
    "        mapping[content[\"name\"]] = file.name"
   ]
  },
  {
   "cell_type": "code",
   "execution_count": 35,
   "metadata": {},
   "outputs": [],
   "source": [
    "with open(output/\"exercicesMap.json\", \"w\") as f:\n",
    "    json.dump(mapping,f)"
   ]
  },
  {
   "cell_type": "code",
   "execution_count": null,
   "metadata": {},
   "outputs": [],
   "source": []
  }
 ],
 "metadata": {
  "kernelspec": {
   "display_name": "venv",
   "language": "python",
   "name": "python3"
  },
  "language_info": {
   "codemirror_mode": {
    "name": "ipython",
    "version": 3
   },
   "file_extension": ".py",
   "mimetype": "text/x-python",
   "name": "python",
   "nbconvert_exporter": "python",
   "pygments_lexer": "ipython3",
   "version": "3.13.1"
  }
 },
 "nbformat": 4,
 "nbformat_minor": 2
}
